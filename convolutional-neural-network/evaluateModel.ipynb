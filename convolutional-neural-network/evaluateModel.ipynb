{
  "nbformat": 4,
  "nbformat_minor": 0,
  "metadata": {
    "colab": {
      "name": "evaluateModel.ipynb",
      "provenance": [],
      "collapsed_sections": []
    },
    "kernelspec": {
      "name": "python3",
      "display_name": "Python 3"
    },
    "language_info": {
      "name": "python"
    },
    "accelerator": "GPU"
  },
  "cells": [
    {
      "cell_type": "markdown",
      "metadata": {
        "id": "6-UCE__EgXEf"
      },
      "source": [
        "## 2021 Emory REU/RET: PyTorch Segmentation Model\n",
        "\n",
        "    Elle Buser\n",
        "    7/29/21\n",
        "\n",
        "Model:\n",
        "\n",
        "- Input: Tensor of size [n, 3, 256, 256] where n is the number of DENSE image sets.\n",
        "\n",
        "      -3 corresponds to number of channels: magnitude, mean DENSE, and peak DENSE images respectively. \n",
        "\n",
        "      -256, 256 is image size.\n",
        "\n",
        "- Output: Tensor of size [n, 3, 256, 256]\n",
        "\n",
        "      -3 corresponds to the number of classes in the segmentation: background, cerebellum, and brain stem.\n",
        "\n",
        "Function: segment(DENSE_image, 'model_path', 'save_path', model_info)\n",
        "\n",
        "- Inputs:\n",
        "\n",
        "      -DENSE_image: Input images [n, 3, 256, 256]\n",
        "\n",
        "      -model_path: Path to here the model is saved '.../model'\n",
        "\n",
        "      -save_folder: Path to folder where results will be saved '.../folder/'\n",
        "\n",
        "      -model_info: \n",
        "          1: to output model's state_dict \n",
        "          0: otherwise\n",
        "\n",
        "- Outputs:\n",
        "\n",
        "      -Shows target and predicted segmentations\n",
        "      \n",
        "      -Saves predicted segmentations in save_path as .png file\n",
        "\n",
        "      -Saves segmentation matrices in a .mat file in save_path\n",
        "\n",
        "      -Model's state_dict (if model_info = 1)\n",
        "\n",
        "      -Model Loss\n",
        "\n",
        "      -Model and Mask Dice Index\n",
        "      \n"
      ]
    },
    {
      "cell_type": "markdown",
      "metadata": {
        "id": "9UcxHckugYk6"
      },
      "source": [
        "## Import Google Drive and Libraries"
      ]
    },
    {
      "cell_type": "code",
      "metadata": {
        "colab": {
          "base_uri": "https://localhost:8080/"
        },
        "id": "4RdsWXk3K8KM",
        "outputId": "0d9050bc-6256-45f1-841e-b7838a28742a"
      },
      "source": [
        "from google.colab import drive\n",
        "drive.mount('/content/gdrive', force_remount=True)\n",
        "\n",
        "import sys, os\n",
        "import numpy as np\n",
        "import scipy.io as sio\n",
        "from scipy.io import savemat\n",
        "\n",
        "import matplotlib.pyplot as plt\n",
        "\n",
        "import torch\n",
        "import torch.nn as nn\n",
        "import torchvision\n",
        "import torch.nn.functional as F\n",
        "import torchvision.transforms as transforms\n",
        "\n",
        "device = torch.device(\"cuda:0\" if torch.cuda.is_available() else \"cpu\")\n",
        "print(device)"
      ],
      "execution_count": null,
      "outputs": [
        {
          "output_type": "stream",
          "text": [
            "Mounted at /content/gdrive\n",
            "cuda:0\n"
          ],
          "name": "stdout"
        }
      ]
    },
    {
      "cell_type": "markdown",
      "metadata": {
        "id": "EUG301Bx1w3_"
      },
      "source": [
        "## Setup U-Net and Loss Function\n",
        "U-Net based on the blog post https://amaarora.github.io/2020/09/13/unet.html."
      ]
    },
    {
      "cell_type": "code",
      "metadata": {
        "id": "nFJndj431xm7"
      },
      "source": [
        "class Block(nn.Module):\n",
        "    def __init__(self, in_ch, out_ch, device='cpu'):\n",
        "        super().__init__()\n",
        "        self.conv1 = nn.Conv2d(in_ch, out_ch, 3,padding=1, device=device)\n",
        "        self.relu  = nn.ReLU()\n",
        "        self.conv2 = nn.Conv2d(out_ch, out_ch, 3,padding=1, device=device)\n",
        "        #conv layers: increase depth (& number of channels) of the input image\n",
        "\n",
        "    def forward(self, x):\n",
        "        return self.conv2(self.relu(self.conv1(x)))\n",
        "\n",
        "\n",
        "class Encoder(nn.Module):\n",
        "    def __init__(self, chs=(3,64,128,256,512,1024), device='cpu'):\n",
        "        super().__init__()\n",
        "        self.enc_blocks = nn.ModuleList([Block(chs[i], chs[i+1], device=device) for i in range(len(chs)-1)])\n",
        "        self.pool       = nn.MaxPool2d(2) #MaxPool: halves size of image\n",
        "    \n",
        "    def forward(self, x):\n",
        "        ftrs = []\n",
        "        for block in self.enc_blocks:\n",
        "            x = block(x)\n",
        "            ftrs.append(x)\n",
        "            x = self.pool(x)\n",
        "        return ftrs\n",
        "\n",
        "\n",
        "class Decoder(nn.Module):\n",
        "    def __init__(self, chs=(1024, 512, 256, 128, 64), device='cpu'):\n",
        "        super().__init__()\n",
        "        self.chs         = chs\n",
        "        self.upconvs    = nn.ModuleList([nn.ConvTranspose2d(chs[i], chs[i+1], 2, 2, device=device) for i in range(len(chs)-1)])\n",
        "        self.dec_blocks = nn.ModuleList([Block(chs[i], chs[i+1], device=device) for i in range(len(chs)-1)]) \n",
        "        \n",
        "    def forward(self, x, encoder_features):\n",
        "        for i in range(len(self.chs)-1):\n",
        "            x        = self.upconvs[i](x)\n",
        "            enc_ftrs = self.crop(encoder_features[i], x)\n",
        "            x        = torch.cat([x, enc_ftrs], dim=1)\n",
        "            x        = self.dec_blocks[i](x)\n",
        "        return x\n",
        "    \n",
        "    def crop(self, enc_ftrs, x):\n",
        "        _, _, H, W = x.shape\n",
        "        enc_ftrs   = torchvision.transforms.CenterCrop([H, W])(enc_ftrs)\n",
        "        return enc_ftrs\n",
        "\n",
        "\n",
        "class UNet(nn.Module):\n",
        "    def __init__(self, enc_chs=(3,64,128,256,512,1024), dec_chs=(1024, 512, 256, 128, 64), num_class=3, retain_dim=False, out_sz=(572,572), device='cpu'):\n",
        "        super().__init__() \n",
        "        self.encoder     = Encoder(enc_chs, device=device)\n",
        "        self.decoder     = Decoder(dec_chs, device=device)\n",
        "        self.head        = nn.Conv2d(dec_chs[-1], num_class, 1, device=device) # Changed num_class=1 -> 3 above to make 3 channels\n",
        "        self.retain_dim  = retain_dim\n",
        "\n",
        "    def forward(self, x):\n",
        "        enc_ftrs = self.encoder(x)\n",
        "        out      = self.decoder(enc_ftrs[::-1][0], enc_ftrs[::-1][1:])\n",
        "        out      = self.head(out)\n",
        "        if self.retain_dim:\n",
        "            out = F.interpolate(out, out_sz)\n",
        "        return out\n",
        "\n",
        "#Cross-Entropy Loss Function:\n",
        "loss = nn.CrossEntropyLoss()"
      ],
      "execution_count": null,
      "outputs": []
    },
    {
      "cell_type": "markdown",
      "metadata": {
        "id": "ijmepI8LplH3"
      },
      "source": [
        "## Segmentation Function"
      ]
    },
    {
      "cell_type": "code",
      "metadata": {
        "id": "uIxVIsbkgMsK"
      },
      "source": [
        "#Dice Index Function\n",
        "def dice(k, label, prediction):\n",
        "  masks_sum = torch.sum(label == k) + torch.sum(prediction == k)\n",
        "  inter = torch.sum(torch.mul(label == k, prediction == k))\n",
        "  diceIndex = (2 * (inter + 0.001)) / (masks_sum + 0.001) #Add 0.001 in case inter = 0\n",
        "  return diceIndex\n",
        "\n",
        "#Segmentation Function\n",
        "def segment(DENSE_image, model_path, save_path, model_info):\n",
        "\n",
        "  if not(os.path.exists(save_path)):\n",
        "    os.mkdir(save_path)\n",
        "  \n",
        "  #Load Model\n",
        "  model = torch.load(model_path)\n",
        "  model.to(device)\n",
        "  model.eval()\n",
        "\n",
        "  #Print Model's state_dict If Requested\n",
        "  if model_info == 1:\n",
        "    print(\"Model's Information:\")\n",
        "    for param_tensor in model.state_dict():\n",
        "        print(param_tensor, \"\\t\", model.state_dict()[param_tensor].size())\n",
        "  if model_info != 0 and model_info != 1:\n",
        "    print('Invalid model_info Input. Input 1 if you want model information or 0 if not.')\n",
        "\n",
        "  #In Case Single Image and not 4D Tensor:\n",
        "  if len(DENSE_image.shape) == 3: \n",
        "    DENSE_image = images.unsqueeze(0)\n",
        "\n",
        "  #Run Input Images Through Model\n",
        "  predicted_masks = model(DENSE_image)\n",
        "\n",
        "  #Normalize Mask Segmentations\n",
        "  masks_norm = torch.argmax(predicted_masks, dim=1)\n",
        "\n",
        "  #Calculate and Print Model Loss and Dice Index\n",
        "  model_loss = loss(predicted_masks, target_masks)\n",
        "  print('Model Loss = %.4f' % (model_loss.item()))\n",
        "  print('-------------------------------------')\n",
        "  dice_background = dice(0,target_masks, masks_norm).cpu().numpy()\n",
        "  print('Total Background Dice = %.4f' % (dice_background))\n",
        "  dice_cerebellum = dice(1,target_masks, masks_norm).cpu().numpy()\n",
        "  print('Total Cerebellum Dice = %.4f' % (dice_cerebellum))\n",
        "  dice_brainstem =  dice(2,target_masks, masks_norm).cpu().numpy()\n",
        "  print('Total Brain Stem Dice = %.4f' % (dice_brainstem))\n",
        "  print('-------------------------------------')\n",
        "  print('Individual Dice Index:')\n",
        "  print('Mask|Background|Cerebellum|Brain Stem')\n",
        "\n",
        "\n",
        "  #Save Mask Segmentations\n",
        "  for mask in range(len(predicted_masks)):\n",
        "    #Create Mask Image\n",
        "    plt.figure(1)\n",
        "    masks = (masks_norm - torch.min(masks_norm)) / torch.max(masks_norm)\n",
        "    plt.imshow(masks[mask].squeeze(0).cpu().numpy(),cmap='gray')\n",
        "    plt.axis(\"off\") \n",
        "    plt.savefig(save_path + 'segmentation_mask' + str(mask+1))\n",
        "    plt.figure(1).clf()\n",
        "    #Print Dice for Each Mask\n",
        "    print('%2d' % (mask+1), '%9.4f' % (dice(0, target_masks[mask], masks_norm[mask]).cpu().numpy()), \\\n",
        "          '%10.4f' % (dice(1, target_masks[mask], masks_norm[mask]).cpu().numpy()), \\\n",
        "          '%10.4f' % (dice(2, target_masks[mask], masks_norm[mask]).cpu().numpy()))\n",
        "\n",
        "  #Output .mat file with masks\n",
        "  mdic = {\"predicted_mask\": masks_norm.cpu().numpy()}\n",
        "  savemat(save_path + \"DENSE_segmentations.mat\", mdic)\n",
        "\n",
        "  #Plot Known and Predicted Mask\n",
        "  plt.rcParams.update({'font.size': 8})\n",
        "  plt.rcParams.update({'image.interpolation' : None})\n",
        "  plt.rcParams['figure.figsize'] = [6, 4]\n",
        "  plt.rcParams['figure.dpi'] = 200\n",
        "\n",
        "  plt.figure(2)\n",
        "  plt.imshow(torchvision.utils.make_grid((target_masks.unsqueeze(1)/torch.max(target_masks)).cpu(),6,padding=5,pad_value=1.0).permute((1,2,0)),cmap='gray')\n",
        "  plt.axis(\"off\")\n",
        "  plt.title('Target Segmentations')\n",
        "  plt.margins(0, 0)\n",
        "  plt.show(2)\n",
        "\n",
        "  plt.figure(3)\n",
        "  imout = masks_norm-torch.min(masks_norm)\n",
        "  imout = imout / torch.max(imout)\n",
        "  plt.imshow(torchvision.utils.make_grid(imout.unsqueeze(1).cpu(),6,padding=5,pad_value=1.0).permute((1,2,0)),cmap='gray')\n",
        "  plt.axis(\"off\")\n",
        "  plt.title('Predicted Segmentation')\n",
        "  plt.margins(0, 0)\n",
        "  plt.savefig(save_path + 'test_segmentations')\n",
        "  plt.show(3)\n",
        "  "
      ],
      "execution_count": null,
      "outputs": []
    },
    {
      "cell_type": "markdown",
      "metadata": {
        "id": "RREnklbe6ODg"
      },
      "source": [
        "## Upload Data, Define Model Path and Save Path\n",
        "\n",
        "The imported data files should contain normalized magnitude, mean and peak DENSE images, and masks"
      ]
    },
    {
      "cell_type": "code",
      "metadata": {
        "id": "eAj7_H_b6Oq0"
      },
      "source": [
        "#Import .mat Data Files\n",
        "dataTest = sio.loadmat('/content/gdrive/My Drive/ChiariData/normalizedChiariTestData-v2.mat')\n",
        "\n",
        "#Extract From .mat File(s)\n",
        "images_norm = torch.tensor(dataTest['normalTest'],dtype=torch.float32, device=device).permute((2,0,1)).unsqueeze(1) #Normalized Magnitude\n",
        "target_masks = torch.tensor(dataTest['masksTest'],dtype=torch.long, device=device).permute((2,0,1)) #Known Masks\n",
        "images_mean = torch.tensor(dataTest['meanDisplacementTest'],dtype=torch.float32, device=device).permute((2,0,1)).unsqueeze(1) #Mean DENSE\n",
        "images_peak = torch.tensor(dataTest['peakDisplacementTest'],dtype=torch.float32, device=device).permute((2,0,1)).unsqueeze(1) #Peak DENSE\n",
        "images = torch.cat((images_norm, images_mean, images_peak),1) #Combine Images Into Single Tensor\n",
        "\n",
        "#Model Path\n",
        "model_path ='/content/gdrive/My Drive/Chiari/Colab/results/UNet_Model'\n",
        "#Save Path\n",
        "save_path = '/content/gdrive/My Drive/Chiari/Colab/results/testDataSegmentations/'\n"
      ],
      "execution_count": null,
      "outputs": []
    },
    {
      "cell_type": "markdown",
      "metadata": {
        "id": "3w23X7AGJvei"
      },
      "source": [
        "## Run Function"
      ]
    },
    {
      "cell_type": "code",
      "metadata": {
        "colab": {
          "base_uri": "https://localhost:8080/",
          "height": 1000
        },
        "id": "Ugo2cdpYJuz2",
        "outputId": "b1e9d02a-7154-438e-9c98-88c47eccff8e"
      },
      "source": [
        "segment(images, model_path, save_path, 0)"
      ],
      "execution_count": null,
      "outputs": [
        {
          "output_type": "stream",
          "text": [
            "/usr/local/lib/python3.7/dist-packages/torch/nn/functional.py:718: UserWarning: Named tensors and all their associated APIs are an experimental feature and subject to change. Please do not use them for anything important until they are released as stable. (Triggered internally at  /pytorch/c10/core/TensorImpl.h:1156.)\n",
            "  return torch.max_pool2d(input, kernel_size, stride, padding, dilation, ceil_mode)\n"
          ],
          "name": "stderr"
        },
        {
          "output_type": "stream",
          "text": [
            "Model Loss = 0.0302\n",
            "-------------------------------------\n",
            "Total Background Dice = 0.9939\n",
            "Total Cerebellum Dice = 0.8577\n",
            "Total Brain Stem Dice = 0.8634\n",
            "-------------------------------------\n",
            "Individual Dice Index:\n",
            "Mask|Background|Cerebellum|Brain Stem\n",
            " 1    0.9929     0.8272     0.8400\n",
            " 2    0.9953     0.8955     0.8634\n",
            " 3    0.9941     0.8438     0.8769\n",
            " 4    0.9912     0.8053     0.7115\n",
            " 5    0.9941     0.8763     0.9036\n",
            " 6    0.9878     0.7404     0.6745\n",
            " 7    0.9974     0.9356     0.9362\n",
            " 8    0.9963     0.8966     0.9569\n",
            " 9    0.9950     0.9009     0.8663\n",
            "10    0.9934     0.8453     0.8686\n",
            "11    0.9946     0.8763     0.9107\n",
            "12    0.9948     0.8261     0.9328\n"
          ],
          "name": "stdout"
        },
        {
          "output_type": "display_data",
          "data": {
            "text/plain": [
              "<Figure size 432x288 with 0 Axes>"
            ]
          },
          "metadata": {}
        },
        {
          "output_type": "display_data",
          "data": {
            "image/png": "[encoded data removed]",
            "text/plain": [
              "<Figure size 1200x800 with 1 Axes>"
            ]
          },
          "metadata": {
            "needs_background": "light"
          }
        },
        {
          "output_type": "display_data",
          "data": {
            "image/png": "[encoded data removed]",
            "text/plain": [
              "<Figure size 1200x800 with 1 Axes>"
            ]
          },
          "metadata": {
            "needs_background": "light"
          }
        }
      ]
    }
  ]
}